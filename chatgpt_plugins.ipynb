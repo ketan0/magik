{
 "cells": [
  {
   "cell_type": "markdown",
   "id": "3f34700b",
   "metadata": {},
   "source": [
    "# ChatGPT Plugins\n",
    "\n",
    "This example shows how to use ChatGPT Plugins within LangChain abstractions.\n",
    "\n",
    "Note 1: This currently only works for plugins with no auth.\n",
    "\n",
    "Note 2: There are almost certainly other ways to do this, this is just a first pass. If you have better ideas, please open a PR!"
   ]
  },
  {
   "cell_type": "code",
   "execution_count": 34,
   "id": "d41405b5",
   "metadata": {},
   "outputs": [
    {
     "data": {
      "text/plain": [
       "True"
      ]
     },
     "execution_count": 34,
     "metadata": {},
     "output_type": "execute_result"
    }
   ],
   "source": [
    "#!/usr/bin/env python3\n",
    "from typing import List\n",
    "\n",
    "from langchain.chat_models import ChatOpenAI\n",
    "from langchain.agents import load_tools, initialize_agent\n",
    "from langchain.agents import AgentType\n",
    "from langchain.tools import AIPluginTool\n",
    "from langchain.utilities import SerpAPIWrapper\n",
    "from dotenv import load_dotenv\n",
    "import openai\n",
    "# Load default environment variables (.env)\n",
    "load_dotenv()"
   ]
  },
  {
   "cell_type": "code",
   "execution_count": 15,
   "id": "da110db7-4a14-42ce-989e-5ce8fc9bf4ed",
   "metadata": {},
   "outputs": [],
   "source": [
    "def openai_call(\n",
    "    prompt: str,\n",
    "    model: str = 'gpt-4',\n",
    "    temperature: float = 0.5,\n",
    "    max_tokens: int = 100,\n",
    "):\n",
    "    while True:\n",
    "        try:\n",
    "            if model.startswith(\"llama\"):\n",
    "                # Spawn a subprocess to run llama.cpp\n",
    "                cmd = cmd = [\"llama/main\", \"-p\", prompt]\n",
    "                result = subprocess.run(cmd, shell=True, stderr=subprocess.DEVNULL, stdout=subprocess.PIPE, text=True)\n",
    "                return result.stdout.strip()\n",
    "            elif not model.startswith(\"gpt-\"):\n",
    "                # Use completion API\n",
    "                response = openai.Completion.create(\n",
    "                    engine=model,\n",
    "                    prompt=prompt,\n",
    "                    temperature=temperature,\n",
    "                    max_tokens=max_tokens,\n",
    "                    top_p=1,\n",
    "                    frequency_penalty=0,\n",
    "                    presence_penalty=0,\n",
    "                )\n",
    "                return response.choices[0].text.strip()\n",
    "            else:\n",
    "                # Use chat completion API\n",
    "                messages = [{\"role\": \"user\", \"content\": prompt}]\n",
    "                response = openai.ChatCompletion.create(\n",
    "                    model=model,\n",
    "                    messages=messages,\n",
    "                    temperature=temperature,\n",
    "                    max_tokens=max_tokens,\n",
    "                    n=1,\n",
    "                    stop=None,\n",
    "                )\n",
    "                return response.choices[0].message.content.strip()\n",
    "        except openai.error.RateLimitError:\n",
    "            print(\n",
    "                \"The OpenAI API rate limit has been exceeded. Waiting 10 seconds and trying again.\"\n",
    "            )\n",
    "            time.sleep(10)  # Wait 10 seconds and try again\n",
    "        else:\n",
    "            break"
   ]
  },
  {
   "cell_type": "code",
   "execution_count": 24,
   "id": "b6575ac3-0149-4ff7-96a1-cc3baf007dc3",
   "metadata": {},
   "outputs": [],
   "source": [
    "def decompose_objective(objective: str):\n",
    "    prompt = (\n",
    "        f'Write me a painfully detailed discretized list of tasks for the following objective:'\n",
    "        f'Objective: {objective}'\n",
    "        f'Tasks should be simple and self-contained enough that it only takes one action to complete. List the tool you would use in parentheses after the task. An example of an ultimately discretized task that takes one action to complete would be \"Purchase a plane ticket using Kayak (Kayak)\" because that requires one API call or action from a user. An an example of a task that is too generic, is one that would need to be broken down further, like \"plan a birthday party\" because that involves picking a date (a discretized task), inviting people via email (a discretized task), picking a theme etc. '\n",
    "        f'Tools you have access to: WolframAlpha (useful for computation), Ask the Human (ask the user for things like dates, preferences), the internet (for answers to current events), OpenTable (for reserving and finding restaurants), Kayak (for planning and finding flights), ChatGPT as a tool (for natural language reasoning, generating packing lists, grocery lists from recipes, code snippets, poems/\"copy\" and more), Shop - the web app (for purchasing goods like clothing, party supplies), Instacart (for purchasing food and drinks), Zapier (for sending emails, creating excel databases and more).'\n",
    "    )\n",
    "    print(openai_call(prompt, 'gpt-4', temperature=0.5, max_tokens=7500))\n",
    "    # llm = ChatOpenAI(temperature=0.5)\n",
    "    # tools = []\n",
    "    # tools = load_tools([\"requests\"])\n",
    "    # tools += [klarna_tool]\n",
    "\n",
    "    # agent_chain = initialize_agent(tools, llm, agent=AgentType.ZERO_SHOT_REACT_DESCRIPTION, verbose=True)\n",
    "    # agent_chain.run(prompt)\n",
    "    # task_completed = \"Task completed!\" in response\n",
    "    # if task_completed:\n",
    "    #     print(f\"Completed the following task: {task}\")\n",
    "    # else:\n",
    "    #     print(f\"Decomposing the following task further: {task}\")"
   ]
  },
  {
   "cell_type": "code",
   "execution_count": 26,
   "id": "09a9c858-25c0-4c0f-8a35-b83554bac553",
   "metadata": {},
   "outputs": [],
   "source": [
    "def decompose_objective(objective: str):\n",
    "    prompt = (\n",
    "        f'Write me a painfully detailed discretized list of tasks for the following objective:'\n",
    "        f'Objective: {objective}'\n",
    "        f'Tasks should be simple and self-contained enough that it only takes one action to complete. List the tool you would use in parentheses after the task. An example of an ultimately discretized task that takes one action to complete would be \"Purchase a plane ticket using Kayak (Kayak)\" because that requires one API call or action from a user. An an example of a task that is too generic, is one that would need to be broken down further, like \"plan a birthday party\" because that involves picking a date (a discretized task), inviting people via email (a discretized task), picking a theme etc. '\n",
    "        f'Tools you have access to: WolframAlpha (useful for computation), Ask the Human (ask the user for things like dates, preferences), the internet (for answers to current events), OpenTable (for reserving and finding restaurants), Kayak (for planning and finding flights), ChatGPT as a tool (for natural language reasoning, generating packing lists, grocery lists from recipes, code snippets, poems/\"copy\" and more), Shop - the web app (for purchasing goods like clothing, party supplies), Instacart (for purchasing food and drinks), Zapier (for sending emails, creating excel databases and more).'\n",
    "    )\n",
    "    response = openai_call(prompt, 'gpt-4', temperature=0.5, max_tokens=7500)\n",
    "    return response.split('\\n')"
   ]
  },
  {
   "cell_type": "code",
   "execution_count": 30,
   "id": "32ae8391-721f-433e-9ffc-9213f1b4c529",
   "metadata": {},
   "outputs": [],
   "source": [
    "def preprocess_task(sentence):\n",
    "    # Find the last set of parentheses in the sentence\n",
    "    start_index = sentence.rfind(\"(\")\n",
    "    end_index = sentence.rfind(\")\")\n",
    "    \n",
    "    # If there are no parentheses in the sentence, return the original sentence\n",
    "    if start_index == -1 or end_index == -1:\n",
    "        return sentence\n",
    "    \n",
    "    # Replace the last set of parentheses with \"using\" and the text within the parentheses\n",
    "    using_text = sentence[start_index+1:end_index]\n",
    "    new_sentence = sentence[:start_index] + \"using \" + using_text + sentence[end_index+1:]\n",
    "    return new_sentence, using_text\n",
    "\n",
    "tool_map = {\n",
    "    'Ask the Human': 'human',\n",
    "    'the internet': 'serpapi',\n",
    "    'Kayak': AIPluginTool.from_plugin_url(\"https://www.kayak.com/.well-known/ai-plugin.json\"),\n",
    "    'Instacart': AIPluginTool.from_plugin_url(\"https://www.klarna.com/.well-known/ai-plugin.json\"),\n",
    "    # 'Klarna': klarna_tool = AIPluginTool.from_plugin_url(\"https://www.klarna.com/.well-known/ai-plugin.json\")\n",
    "}\n",
    "\n",
    "def accomplish_task(task):\n",
    "    task, tool_name = preprocess_task(task)\n",
    "    llm = ChatOpenAI(temperature=0.5)\n",
    "    tools = load_tools([\"requests\"])\n",
    "    if tool_name == 'ChatGPT':\n",
    "        print(openai_call(prompt, 'gpt-4', temperature=0.5, max_tokens=7500))\n",
    "    else:\n",
    "        tool = tool_map.get(tool_name, None)\n",
    "        if tool is not None:\n",
    "            tools += [tool]\n",
    "        agent_chain = initialize_agent(tools, llm, agent=AgentType.ZERO_SHOT_REACT_DESCRIPTION, verbose=True)\n",
    "        agent_chain.run(prompt)"
   ]
  },
  {
   "cell_type": "code",
   "execution_count": 32,
   "id": "2f32d2b7-f880-40a5-abae-bcf38cedf782",
   "metadata": {},
   "outputs": [
    {
     "name": "stdout",
     "output_type": "stream",
     "text": [
      "1. Ask the Human for preferred travel dates (Ask the Human)\n",
      "2. Ask the Human for destination preferences (Ask the Human)\n",
      "3. Research top vacation destinations based on preferences (the internet)\n",
      "4. Present top 3 vacation destinations to the Human (ChatGPT)\n",
      "5. Ask the Human to choose a destination from the list (Ask the Human)\n",
      "6. Research local attractions and activities at the chosen destination (the internet)\n",
      "7. Present top 5 attractions and activities to the Human (ChatGPT)\n",
      "8. Ask the Human for their preferred attractions and activities (Ask the Human)\n",
      "9. Generate a list of attractions and activities based on the Human's preferences (ChatGPT)\n",
      "10. Search for flights to the chosen destination on the preferred travel dates (Kayak)\n",
      "11. Present the top 3 flight options to the Human (ChatGPT)\n",
      "12. Ask the Human to choose a flight from the list (Ask the Human)\n",
      "13. Purchase the chosen flight using Kayak (Kayak)\n",
      "14. Search for accommodation options at the chosen destination (the internet)\n",
      "15. Present the top 3 accommodation options to the Human (ChatGPT)\n",
      "16. Ask the Human to choose an accommodation from the list (Ask the Human)\n",
      "17. Book the chosen accommodation (the internet)\n",
      "18. Generate a packing list based on the destination and activities (ChatGPT)\n",
      "19. Present the packing list to the Human (ChatGPT)\n",
      "20. Ask the Human if they need to purchase any items from the packing list (Ask the Human)\n",
      "21. If needed, purchase required items from the packing list using Shop - the web app (Shop - the web app)\n",
      "22. Search for restaurants near the chosen accommodation (OpenTable)\n",
      "23. Present the top 3 restaurant options to the Human (ChatGPT)\n",
      "24. Ask the Human if they want to make a reservation at any of the restaurants (Ask the Human)\n",
      "25. If needed, make a reservation at the chosen restaurant using OpenTable (OpenTable)\n",
      "26. Create an itinerary for the vacation including travel dates, flights, accommodation, attractions, activities, and restaurant reservations (ChatGPT)\n",
      "27. Present the itinerary to the Human (ChatGPT)\n",
      "28. Ask the Human if they want to share the itinerary with anyone (Ask the Human)\n",
      "29. If needed, create a contact list for sharing the itinerary (Ask the Human)\n",
      "30. Share the itinerary with the contact list via email using Zapier (Zapier)\n",
      "31. Set up reminders for important tasks and events related to the vacation using Zapier (Zapier)\n",
      "32. Confirm all bookings and reservations before the vacation (the internet)\n",
      "33. Remind the Human to pack their bags using the packing list before departure (ChatGPT)\n",
      "None\n"
     ]
    }
   ],
   "source": [
    "tasks = decompose_objective('Plan a vacation.')\n",
    "print(tasks)"
   ]
  },
  {
   "cell_type": "code",
   "execution_count": null,
   "id": "05a179a0-2485-4056-adc4-b9259dac713a",
   "metadata": {},
   "outputs": [],
   "source": [
    "for task in tasks:\n",
    "    accomplish_task(task)"
   ]
  }
 ],
 "metadata": {
  "kernelspec": {
   "display_name": "Python (magik)",
   "language": "python",
   "name": "magik"
  },
  "language_info": {
   "codemirror_mode": {
    "name": "ipython",
    "version": 3
   },
   "file_extension": ".py",
   "mimetype": "text/x-python",
   "name": "python",
   "nbconvert_exporter": "python",
   "pygments_lexer": "ipython3",
   "version": "3.10.11"
  }
 },
 "nbformat": 4,
 "nbformat_minor": 5
}
